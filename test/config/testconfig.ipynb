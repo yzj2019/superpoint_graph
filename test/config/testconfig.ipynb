{
 "cells": [
  {
   "cell_type": "code",
   "execution_count": 1,
   "metadata": {},
   "outputs": [],
   "source": [
    "from omegaconf import OmegaConf"
   ]
  },
  {
   "cell_type": "markdown",
   "metadata": {},
   "source": [
    "引用值"
   ]
  },
  {
   "cell_type": "code",
   "execution_count": 9,
   "metadata": {},
   "outputs": [],
   "source": [
    "config = OmegaConf.load(\"test1.yaml\")"
   ]
  },
  {
   "cell_type": "code",
   "execution_count": 16,
   "metadata": {},
   "outputs": [
    {
     "data": {
      "text/plain": [
       "{'transform': 'KNN', 'params': {'k': '${knn}', 'r_max': '${datamodule.knn_r}'}}"
      ]
     },
     "execution_count": 16,
     "metadata": {},
     "output_type": "execute_result"
    }
   ],
   "source": [
    "config.pre_transform[0]"
   ]
  },
  {
   "cell_type": "code",
   "execution_count": 15,
   "metadata": {},
   "outputs": [
    {
     "data": {
      "text/plain": [
       "45"
      ]
     },
     "execution_count": 15,
     "metadata": {},
     "output_type": "execute_result"
    }
   ],
   "source": [
    "config.pre_transform[0].params.k"
   ]
  },
  {
   "cell_type": "code",
   "execution_count": 14,
   "metadata": {},
   "outputs": [
    {
     "data": {
      "text/plain": [
       "omegaconf.dictconfig.DictConfig"
      ]
     },
     "execution_count": 14,
     "metadata": {},
     "output_type": "execute_result"
    }
   ],
   "source": [
    "type(config.pre_transform[0])"
   ]
  },
  {
   "cell_type": "markdown",
   "metadata": {},
   "source": [
    "构建transforms"
   ]
  },
  {
   "cell_type": "code",
   "execution_count": 17,
   "metadata": {},
   "outputs": [],
   "source": [
    "import sys\n",
    "sys.path.append('../..')\n",
    "from functions import transforms"
   ]
  },
  {
   "cell_type": "code",
   "execution_count": 18,
   "metadata": {},
   "outputs": [
    {
     "data": {
      "text/plain": [
       "{'partition_hf': ['rgb', 'linearity', 'planarity', 'scattering', 'verticality', 'elevation'], 'voxel': 0.02, 'knn': 45, 'knn_r': 2, 'knn_step': -1, 'knn_min_search': 25, 'ground_threshold': 1.5, 'ground_scale': 4.0, 'pcp_regularization': [0.01, 0.1, 0.5], 'pcp_spatial_weight': [0.1, 0.1, 0.1], 'pcp_cutoff': [10, 10, 10], 'pcp_k_adjacency': 10, 'pcp_w_adjacency': 1, 'pcp_iterations': 15, 'pre_transform': [{'transform': 'SaveNodeIndex', 'params': {'key': 'sub'}}, {'transform': 'DataTo', 'params': {'device': 'cuda'}}, {'transform': 'KNN', 'params': {'k': '${knn}', 'r_max': '${knn_r}', 'verbose': False}}, {'transform': 'DataTo', 'params': {'device': 'cpu'}}, {'transform': 'GroundElevation', 'params': {'threshold': '${ground_threshold}', 'scale': '${ground_scale}'}}, {'transform': 'PointFeatures', 'params': {'keys': '${partition_hf}', 'k_min': 1, 'k_step': '${knn_step}', 'k_min_search': '${knn_min_search}', 'overwrite': False}}, {'transform': 'DataTo', 'params': {'device': 'cuda'}}, {'transform': 'AdjacencyGraph', 'params': {'k': '${pcp_k_adjacency}', 'w': '${pcp_w_adjacency}'}}, {'transform': 'ConnectIsolated', 'params': {'k': 1}}, {'transform': 'DataTo', 'params': {'device': 'cpu'}}, {'transform': 'AddKeysTo', 'params': {'keys': '${partition_hf}', 'to': 'x', 'delete_after': False}}, {'transform': 'CutPursuitPartition', 'params': {'regularization': '${pcp_regularization}', 'spatial_weight': '${pcp_spatial_weight}', 'k_adjacency': '${pcp_k_adjacency}', 'cutoff': '${pcp_cutoff}', 'iterations': '${pcp_iterations}', 'parallel': True, 'verbose': False}}, {'transform': 'NAGRemoveKeys', 'params': {'level': 'all', 'keys': 'x'}}, {'transform': 'NAGTo', 'params': {'device': 'cuda'}}]}"
      ]
     },
     "execution_count": 18,
     "metadata": {},
     "output_type": "execute_result"
    }
   ],
   "source": [
    "config = OmegaConf.load(\"test.yaml\")\n",
    "config"
   ]
  },
  {
   "cell_type": "code",
   "execution_count": 21,
   "metadata": {},
   "outputs": [
    {
     "data": {
      "text/plain": [
       "Compose([\n",
       "  SaveNodeIndex(key=sub),\n",
       "  DataTo(device=cuda),\n",
       "  KNN(k=45, r_max=2, oversample=False, self_is_neighbor=False),\n",
       "  DataTo(device=cpu),\n",
       "  GroundElevation(threshold=1.5, scale=4.0),\n",
       "  PointFeatures(keys=('elevation', 'linearity', 'planarity', 'rgb', 'scattering', 'verticality'), k_min=1, k_step=-1, k_min_search=25, overwrite=False),\n",
       "  DataTo(device=cuda),\n",
       "  AdjacencyGraph(k=10, w=1),\n",
       "  ConnectIsolated(k=1),\n",
       "  DataTo(device=cpu),\n",
       "  AddKeysTo(keys=['rgb', 'linearity', 'planarity', 'scattering', 'verticality', 'elevation'], to=x, delete_after=False),\n",
       "  CutPursuitPartition(regularization=[0.01, 0.1, 0.5], spatial_weight=[0.1, 0.1, 0.1], cutoff=[10, 10, 10], iterations=15, k_adjacency=10),\n",
       "  NAGRemoveKeys(level=all, keys=('x',)),\n",
       "  NAGTo(device=cuda)\n",
       "])"
      ]
     },
     "execution_count": 21,
     "metadata": {},
     "output_type": "execute_result"
    }
   ],
   "source": [
    "tf = transforms.instantiate_transforms(config.pre_transform)\n",
    "tf"
   ]
  }
 ],
 "metadata": {
  "kernelspec": {
   "display_name": "iseg3d",
   "language": "python",
   "name": "python3"
  },
  "language_info": {
   "codemirror_mode": {
    "name": "ipython",
    "version": 3
   },
   "file_extension": ".py",
   "mimetype": "text/x-python",
   "name": "python",
   "nbconvert_exporter": "python",
   "pygments_lexer": "ipython3",
   "version": "3.8.16"
  }
 },
 "nbformat": 4,
 "nbformat_minor": 2
}
